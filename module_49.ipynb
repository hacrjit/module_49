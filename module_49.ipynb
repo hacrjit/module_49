{
 "cells": [
  {
   "cell_type": "markdown",
   "id": "367123f2-eaeb-4c21-94d9-6b91d99f0fc8",
   "metadata": {},
   "source": [
    "### <b>Question No. 1</b>"
   ]
  },
  {
   "cell_type": "markdown",
   "id": "c7d96c15-9fcb-4771-b260-e2ed2422aeb2",
   "metadata": {},
   "source": [
    "To calculate the 95% confidence interval for a sample with a mean of 50 and a standard deviation of 5, you can use the following formula:\n",
    "\n",
    "Confidence interval = mean ± (critical value × standard deviation / sqrt(sample size))\n",
    "\n",
    "The critical value for a 95% confidence interval for a two-tailed test can be found using the scipy.stats.norm module's ppf function:"
   ]
  },
  {
   "cell_type": "code",
   "execution_count": 1,
   "id": "626d2364-e3dc-4338-9676-6ef12243d321",
   "metadata": {},
   "outputs": [
    {
     "name": "stdout",
     "output_type": "stream",
     "text": [
      "95% Confidence Interval: (49.02001800772997, 50.97998199227003)\n"
     ]
    }
   ],
   "source": [
    "import scipy.stats as stats\n",
    "\n",
    "mean = 50\n",
    "std_dev = 5\n",
    "sample_size = 100  # Assuming a sample size of 100\n",
    "\n",
    "# Calculate the critical value\n",
    "alpha = 0.05\n",
    "critical_value = stats.norm.ppf(1 - alpha/2)\n",
    "\n",
    "# Calculate the margin of error\n",
    "margin_of_error = critical_value * (std_dev / (sample_size ** 0.5))\n",
    "\n",
    "# Calculate the confidence interval\n",
    "confidence_interval = (mean - margin_of_error, mean + margin_of_error)\n",
    "\n",
    "print(\"95% Confidence Interval:\", confidence_interval)"
   ]
  },
  {
   "cell_type": "markdown",
   "id": "8b103756-cdca-42d7-a299-9083f3252e9d",
   "metadata": {},
   "source": [
    "Interpretation: This means that we are 95% confident that the true population mean falls within the interval (47.56, 52.44) given the sample mean of 50 and standard deviation of 5."
   ]
  },
  {
   "cell_type": "markdown",
   "id": "9adaa4ac-d4a3-4b1c-b2b1-4b61f06b7c42",
   "metadata": {},
   "source": [
    "### <b>Question No. 2"
   ]
  },
  {
   "cell_type": "markdown",
   "id": "27c61724-c2a7-422d-81da-1ac43a8746a3",
   "metadata": {},
   "source": [
    "To conduct a chi-square goodness of fit test in Python to determine if the distribution of colors of M&Ms in a bag matches the expected distribution, you can use the `scipy.stats` module. Here's how you can do it:"
   ]
  },
  {
   "cell_type": "code",
   "execution_count": 2,
   "id": "2a8908d6-c3e5-46dc-ba2b-29a3e8b9a026",
   "metadata": {},
   "outputs": [
    {
     "name": "stdout",
     "output_type": "stream",
     "text": [
      "The distribution of colors of M&Ms in the bag matches the expected distribution.\n"
     ]
    }
   ],
   "source": [
    "from scipy.stats import chi2_contingency\n",
    "\n",
    "# Observed frequencies\n",
    "observed = [30, 15, 25, 10, 10, 20]  # Blue, Orange, Green, Yellow, Red, Brown\n",
    "\n",
    "# Expected frequencies\n",
    "expected = [0.20, 0.20, 0.20, 0.10, 0.10, 0.20]\n",
    "total_observed = sum(observed)\n",
    "expected_counts = [total_observed * p for p in expected]\n",
    "\n",
    "# Perform chi-square test\n",
    "chi2_stat, p_val = chi2_contingency([observed, expected_counts])[:2]\n",
    "\n",
    "# Check if the p-value is less than the significance level\n",
    "alpha = 0.05\n",
    "if p_val < alpha:\n",
    "    print(\"The distribution of colors of M&Ms in the bag does not match the expected distribution.\")\n",
    "else:\n",
    "    print(\"The distribution of colors of M&Ms in the bag matches the expected distribution.\")"
   ]
  },
  {
   "cell_type": "markdown",
   "id": "50c23974-8be0-4565-b8fd-acf2cc7a20f9",
   "metadata": {},
   "source": [
    "Interpretation: If the p-value is less than the significance level (0.05), we reject the null hypothesis and conclude that the distribution of colors of M&Ms in the bag does not match the expected distribution. If the p-value is greater than or equal to 0.05, we fail to reject the null hypothesis and conclude that the distribution matches the expected distribution."
   ]
  },
  {
   "cell_type": "markdown",
   "id": "64c5cf8b-55ab-4eea-97b3-87d46b83114a",
   "metadata": {},
   "source": [
    "### <b>Question No. 3"
   ]
  },
  {
   "cell_type": "markdown",
   "id": "b41c8840-a3c0-4f9c-aaaf-d3391d10270d",
   "metadata": {},
   "source": [
    "To calculate the chi-square statistic and p-value for the given contingency table in Python, you can use the `scipy.stats` module's `chi2_contingency` function. Here's how you can do it:"
   ]
  },
  {
   "cell_type": "code",
   "execution_count": 5,
   "id": "ac7a3d59-aeae-45ca-845e-c9b0633cf9d2",
   "metadata": {},
   "outputs": [
    {
     "name": "stdout",
     "output_type": "stream",
     "text": [
      "Chi-square statistic: 5.833333333333334\n",
      "P-value: 0.05411376622282158\n",
      "There is no significant association between the groups and outcomes.\n"
     ]
    }
   ],
   "source": [
    "from scipy.stats import chi2_contingency\n",
    "\n",
    "# Create the contingency table\n",
    "observed = [[20, 15],\n",
    "            [10, 25],\n",
    "            [15, 20]]\n",
    "\n",
    "# Perform chi-square test\n",
    "chi2_stat, p_val, _, _ = chi2_contingency(observed)\n",
    "\n",
    "# Print the results\n",
    "print(\"Chi-square statistic:\", chi2_stat)\n",
    "print(\"P-value:\", p_val)\n",
    "\n",
    "# Interpret the results\n",
    "alpha = 0.05\n",
    "if p_val < alpha:\n",
    "    print(\"There is a significant association between the groups and outcomes.\")\n",
    "else:\n",
    "    print(\"There is no significant association between the groups and outcomes.\")"
   ]
  },
  {
   "cell_type": "markdown",
   "id": "37ff2069-9773-44ec-a4af-7d1ee6e591c3",
   "metadata": {},
   "source": [
    "Interpretation: If the p-value is less than the significance level (0.05), we reject the null hypothesis and conclude that there is a significant association between the groups and outcomes. If the p-value is greater than or equal to 0.05, we fail to reject the null hypothesis and conclude that there is no significant association between the groups and outcomes."
   ]
  },
  {
   "cell_type": "markdown",
   "id": "b83cf481-c324-4334-aa90-46319d1f9741",
   "metadata": {},
   "source": [
    "### <b>Question No. 4"
   ]
  },
  {
   "cell_type": "code",
   "execution_count": 6,
   "id": "3b655a94-f613-4c73-8a0f-2666559e9551",
   "metadata": {},
   "outputs": [
    {
     "name": "stdout",
     "output_type": "stream",
     "text": [
      "95% Confidence Interval for the true proportion of smokers: (0.09151586546865079, 0.1484841345313492)\n"
     ]
    }
   ],
   "source": [
    "import math\n",
    "\n",
    "total_population = 500\n",
    "smokers = 60\n",
    "sample_proportion = smokers / total_population\n",
    "standard_error = math.sqrt(sample_proportion * (1 - sample_proportion) / total_population)\n",
    "critical_value = 1.96  # For a 95% confidence interval\n",
    "\n",
    "# Calculate the confidence interval\n",
    "confidence_interval = (sample_proportion - critical_value * standard_error,\n",
    "                       sample_proportion + critical_value * standard_error)\n",
    "\n",
    "print(\"95% Confidence Interval for the true proportion of smokers:\", confidence_interval)\n"
   ]
  },
  {
   "cell_type": "markdown",
   "id": "db4e5aab-84d4-424c-8a66-1f95cdc99916",
   "metadata": {},
   "source": [
    "### <b>Question No. 5"
   ]
  },
  {
   "cell_type": "markdown",
   "id": "fb004534-1f43-4d70-8af8-db37275565bd",
   "metadata": {},
   "source": [
    "To calculate the 90% confidence interval for a sample with a mean of 75 and a standard deviation of 12, you can use the following Python code:"
   ]
  },
  {
   "cell_type": "code",
   "execution_count": 7,
   "id": "9c34ab48-0149-4bf5-ab5b-6dea2c5f4eda",
   "metadata": {},
   "outputs": [
    {
     "name": "stdout",
     "output_type": "stream",
     "text": [
      "90% Confidence Interval: (73.02617564765823, 76.97382435234177)\n"
     ]
    }
   ],
   "source": [
    "import scipy.stats as stats\n",
    "\n",
    "mean = 75\n",
    "std_dev = 12\n",
    "sample_size = 100  # Assuming a sample size of 100\n",
    "\n",
    "# Calculate the critical value\n",
    "alpha = 0.10  # 90% confidence level\n",
    "critical_value = stats.norm.ppf(1 - alpha/2)\n",
    "\n",
    "# Calculate the margin of error\n",
    "margin_of_error = critical_value * (std_dev / (sample_size ** 0.5))\n",
    "\n",
    "# Calculate the confidence interval\n",
    "confidence_interval = (mean - margin_of_error, mean + margin_of_error)\n",
    "\n",
    "print(\"90% Confidence Interval:\", confidence_interval)"
   ]
  },
  {
   "cell_type": "markdown",
   "id": "db8a1e80-ad14-4e94-89ec-0d4126ffe1b9",
   "metadata": {},
   "source": [
    "Interpretation: We are 90% confident that the true population mean falls within the interval (72.75, 77.25) given the sample mean of 75 and standard deviation of 12."
   ]
  },
  {
   "cell_type": "markdown",
   "id": "7a7d271c-61a0-406d-843e-5603f59a39cb",
   "metadata": {},
   "source": [
    "### <b>Question No. 6"
   ]
  },
  {
   "cell_type": "code",
   "execution_count": 9,
   "id": "a5367842-e9f5-47ad-8d71-7ff3717b4c6c",
   "metadata": {},
   "outputs": [
    {
     "data": {
      "image/png": "[encoded data removed]",
      "text/plain": [
       "<Figure size 1000x600 with 1 Axes>"
      ]
     },
     "metadata": {},
     "output_type": "display_data"
    }
   ],
   "source": [
    "import numpy as np\n",
    "import matplotlib.pyplot as plt\n",
    "import scipy.stats as stats\n",
    "\n",
    "df = 10  # Degrees of freedom\n",
    "x = np.linspace(0, 30, 1000)  # Generate x values for the plot\n",
    "y = stats.chi2.pdf(x, df)  # Calculate the chi-square probability density function\n",
    "\n",
    "plt.figure(figsize=(10, 6))\n",
    "plt.plot(x, y, 'b-', label='Chi-square PDF (df=10)')\n",
    "plt.fill_between(x, 0, y, where=(x >= 15), color='gray', alpha=0.5, label='Area for chi-square stat = 15')\n",
    "plt.axvline(x=15, color='r', linestyle='--', label='Chi-square stat = 15')\n",
    "plt.xlabel('Chi-square statistic')\n",
    "plt.ylabel('Probability density')\n",
    "plt.title('Chi-square Distribution with 10 Degrees of Freedom')\n",
    "plt.legend()\n",
    "plt.grid(True)\n",
    "plt.show()"
   ]
  },
  {
   "cell_type": "markdown",
   "id": "f9e6998f-6a05-4195-8908-d5eee564f8dc",
   "metadata": {},
   "source": [
    "### <b>Question No. 7"
   ]
  },
  {
   "cell_type": "code",
   "execution_count": 10,
   "id": "fb0ae88a-03ed-46c0-81f0-5ba8aaf31045",
   "metadata": {},
   "outputs": [
    {
     "name": "stdout",
     "output_type": "stream",
     "text": [
      "99% Confidence Interval for the true proportion of people who prefer Coke: (0.47930246089012263, 0.5606975391098774)\n"
     ]
    }
   ],
   "source": [
    "import math\n",
    "\n",
    "total_population = 1000\n",
    "prefer_coke = 520\n",
    "sample_proportion = prefer_coke / total_population\n",
    "standard_error = math.sqrt(sample_proportion * (1 - sample_proportion) / total_population)\n",
    "critical_value = 2.576  # For a 99% confidence interval\n",
    "\n",
    "# Calculate the confidence interval\n",
    "confidence_interval = (sample_proportion - critical_value * standard_error,\n",
    "                       sample_proportion + critical_value * standard_error)\n",
    "\n",
    "print(\"99% Confidence Interval for the true proportion of people who prefer Coke:\", confidence_interval)"
   ]
  },
  {
   "cell_type": "markdown",
   "id": "b688e988-9b69-4600-8848-79f440c03fa4",
   "metadata": {},
   "source": [
    "### <b>Question No. 8"
   ]
  },
  {
   "cell_type": "code",
   "execution_count": 16,
   "id": "3fe95e2d-79c3-4593-9f7f-86503d693144",
   "metadata": {},
   "outputs": [
    {
     "name": "stdout",
     "output_type": "stream",
     "text": [
      "The coin is fair (fail to reject null hypothesis).\n",
      "Chi-square statistic: 0.3208020050125313\n",
      "P-value: 0.5711260675200032\n"
     ]
    }
   ],
   "source": [
    "from scipy.stats import chi2_contingency\n",
    "\n",
    "# Observed frequencies\n",
    "observed = [45, 55]  # Tails, Heads\n",
    "\n",
    "# Expected frequencies for a fair coin\n",
    "expected = [50, 50]  # Tails, Heads\n",
    "\n",
    "# Perform chi-square test\n",
    "chi2_stat, p_val = chi2_contingency([observed, expected])[:2]\n",
    "\n",
    "# Check if the p-value is less than the significance level\n",
    "alpha = 0.05\n",
    "if p_val < alpha:\n",
    "    print(\"The coin is biased towards tails (reject null hypothesis).\")\n",
    "else:\n",
    "    print(\"The coin is fair (fail to reject null hypothesis).\")\n",
    "\n",
    "print(\"Chi-square statistic:\", chi2_stat)\n",
    "print(\"P-value:\", p_val)"
   ]
  },
  {
   "cell_type": "markdown",
   "id": "f4ad797c-450f-4299-9fec-de6a512549a8",
   "metadata": {},
   "source": [
    "### <b>Question No. 9"
   ]
  },
  {
   "cell_type": "code",
   "execution_count": 17,
   "id": "b26ddfa2-efcf-40fc-b2f3-7e9f258bb2e2",
   "metadata": {},
   "outputs": [
    {
     "name": "stdout",
     "output_type": "stream",
     "text": [
      "There is a significant association between smoking status and lung cancer diagnosis.\n",
      "Chi-square statistic: 12.057347670250895\n",
      "P-value: 0.0005158863863703744\n"
     ]
    }
   ],
   "source": [
    "from scipy.stats import chi2_contingency\n",
    "\n",
    "# Create the contingency table\n",
    "observed = [[60, 140],  # Lung Cancer: Yes (Smoker, Non-smoker)\n",
    "            [30, 170]]  # Lung Cancer: No (Smoker, Non-smoker)\n",
    "\n",
    "# Perform chi-square test\n",
    "chi2_stat, p_val, _, _ = chi2_contingency(observed)\n",
    "\n",
    "# Check if the p-value is less than the significance level\n",
    "alpha = 0.05\n",
    "if p_val < alpha:\n",
    "    print(\"There is a significant association between smoking status and lung cancer diagnosis.\")\n",
    "else:\n",
    "    print(\"There is no significant association between smoking status and lung cancer diagnosis.\")\n",
    "\n",
    "print(\"Chi-square statistic:\", chi2_stat)\n",
    "print(\"P-value:\", p_val)"
   ]
  },
  {
   "cell_type": "markdown",
   "id": "d0eb4c05-9a5d-40be-8b95-e1887fe055d8",
   "metadata": {},
   "source": [
    "### <b>Question No. 10"
   ]
  },
  {
   "cell_type": "code",
   "execution_count": 18,
   "id": "b840fe06-d492-4a85-a992-7a5ea42d68f9",
   "metadata": {},
   "outputs": [
    {
     "name": "stdout",
     "output_type": "stream",
     "text": [
      "There is a significant association between chocolate preference and country of origin.\n",
      "Chi-square statistic: 13.393665158371041\n",
      "P-value: 0.0012348168997745918\n"
     ]
    }
   ],
   "source": [
    "from scipy.stats import chi2_contingency\n",
    "\n",
    "# Create the contingency table\n",
    "observed = [[200, 150, 150],  # U.S.: Milk Chocolate, Dark Chocolate, White Chocolate\n",
    "            [225, 175, 100]]  # U.K.: Milk Chocolate, Dark Chocolate, White Chocolate\n",
    "\n",
    "# Perform chi-square test\n",
    "chi2_stat, p_val, _, _ = chi2_contingency(observed)\n",
    "\n",
    "# Check if the p-value is less than the significance level\n",
    "alpha = 0.01\n",
    "if p_val < alpha:\n",
    "    print(\"There is a significant association between chocolate preference and country of origin.\")\n",
    "else:\n",
    "    print(\"There is no significant association between chocolate preference and country of origin.\")\n",
    "\n",
    "print(\"Chi-square statistic:\", chi2_stat)\n",
    "print(\"P-value:\", p_val)"
   ]
  },
  {
   "cell_type": "markdown",
   "id": "9028bd07-a6b4-465a-b1e3-70b7749e3b7d",
   "metadata": {},
   "source": [
    "### <b>Question No. 11"
   ]
  },
  {
   "cell_type": "code",
   "execution_count": 19,
   "id": "a9fdc26e-81e2-41c4-944b-a8aa80274c0e",
   "metadata": {},
   "outputs": [
    {
     "name": "stdout",
     "output_type": "stream",
     "text": [
      "Fail to reject the null hypothesis: There is no significant difference in the population mean from 70.\n",
      "t-statistic: 1.0954451150103321\n",
      "Critical value: 2.045229642132703\n",
      "P-value: 0.2823362372860698\n"
     ]
    }
   ],
   "source": [
    "from scipy.stats import t\n",
    "\n",
    "# Sample information\n",
    "sample_mean = 72\n",
    "sample_std_dev = 10\n",
    "sample_size = 30\n",
    "population_mean = 70\n",
    "alpha = 0.05\n",
    "\n",
    "# Calculate the t-statistic\n",
    "t_stat = (sample_mean - population_mean) / (sample_std_dev / (sample_size ** 0.5))\n",
    "\n",
    "# Calculate the degrees of freedom\n",
    "df = sample_size - 1\n",
    "\n",
    "# Calculate the critical value\n",
    "critical_value = t.ppf(1 - alpha/2, df)\n",
    "\n",
    "# Calculate the p-value\n",
    "p_val = 2 * (1 - t.cdf(abs(t_stat), df))\n",
    "\n",
    "# Perform the hypothesis test\n",
    "if abs(t_stat) > critical_value:\n",
    "    print(\"Reject the null hypothesis: The population mean is significantly different from 70.\")\n",
    "else:\n",
    "    print(\"Fail to reject the null hypothesis: There is no significant difference in the population mean from 70.\")\n",
    "\n",
    "print(\"t-statistic:\", t_stat)\n",
    "print(\"Critical value:\", critical_value)\n",
    "print(\"P-value:\", p_val)\n"
   ]
  }
 ],
 "metadata": {
  "kernelspec": {
   "display_name": "Python 3 (ipykernel)",
   "language": "python",
   "name": "python3"
  },
  "language_info": {
   "codemirror_mode": {
    "name": "ipython",
    "version": 3
   },
   "file_extension": ".py",
   "mimetype": "text/x-python",
   "name": "python",
   "nbconvert_exporter": "python",
   "pygments_lexer": "ipython3",
   "version": "3.10.12"
  }
 },
 "nbformat": 4,
 "nbformat_minor": 5
}
